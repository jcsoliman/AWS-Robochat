{
 "cells": [
  {
   "cell_type": "markdown",
   "metadata": {},
   "source": [
    "**Age Error Test Result**"
   ]
  },
  {
   "cell_type": "code",
   "execution_count": null,
   "metadata": {},
   "outputs": [],
   "source": [
    "#Age Error\n",
    "{\n",
    "  \"sessionAttributes\": {},\n",
    "  \"dialogAction\": {\n",
    "    \"type\": \"ElicitSlot\",\n",
    "    \"intentName\": \"RecommendPortfolio\",\n",
    "    \"slots\": {\n",
    "      \"firstName\": \"John\",\n",
    "      \"age\": null,\n",
    "      \"riskLevel\": \"Low\",\n",
    "      \"investmentAmount\": \"5000\"\n",
    "    },\n",
    "    \"slotToElicit\": \"age\",\n",
    "    \"message\": {\n",
    "      \"contentType\": \"PlainText\",\n",
    "      \"content\": \"You should be less than 65 years old to use this service.\"\n",
    "    }\n",
    "  }\n",
    "}"
   ]
  },
  {
   "cell_type": "markdown",
   "metadata": {},
   "source": [
    "**Correct Dialog Test Result**"
   ]
  },
  {
   "cell_type": "code",
   "execution_count": null,
   "metadata": {},
   "outputs": [],
   "source": [
    "{\n",
    "  \"sessionAttributes\": {},\n",
    "  \"dialogAction\": {\n",
    "    \"type\": \"ElicitSlot\",\n",
    "    \"intentName\": \"RecommendPortfolio\",\n",
    "    \"slots\": {\n",
    "      \"firstName\": \"John\",\n",
    "      \"age\": \"40\",\n",
    "      \"riskLevel\": \"Low\",\n",
    "      \"investmentAmount\": \"5000\",\n",
    "      \"invsetmentAmount\": null\n",
    "    },\n",
    "    \"slotToElicit\": \"invsetmentAmount\",\n",
    "    \"message\": {\n",
    "      \"contentType\": \"PlainText\",\n",
    "      \"content\": \"The minimum amount to invest is 5000, please increase your investment.\"\n",
    "    }\n",
    "  }\n",
    "}"
   ]
  },
  {
   "cell_type": "markdown",
   "metadata": {},
   "source": [
    "**Incorrect Amount Error Test Result**"
   ]
  },
  {
   "cell_type": "code",
   "execution_count": null,
   "metadata": {},
   "outputs": [],
   "source": [
    "{\n",
    "  \"sessionAttributes\": {},\n",
    "  \"dialogAction\": {\n",
    "    \"type\": \"ElicitSlot\",\n",
    "    \"intentName\": \"RecommendPortfolio\",\n",
    "    \"slots\": {\n",
    "      \"firstName\": \"John\",\n",
    "      \"age\": \"20\",\n",
    "      \"riskLevel\": \"Low\",\n",
    "      \"investmentAmount\": \"4000\",\n",
    "      \"invsetmentAmount\": null\n",
    "    },\n",
    "    \"slotToElicit\": \"invsetmentAmount\",\n",
    "    \"message\": {\n",
    "      \"contentType\": \"PlainText\",\n",
    "      \"content\": \"The minimum amount to invest is 5000, please increase your investment.\"\n",
    "    }\n",
    "  }\n",
    "}"
   ]
  },
  {
   "cell_type": "markdown",
   "metadata": {},
   "source": [
    "**Negative Age Error Test Result**"
   ]
  },
  {
   "cell_type": "code",
   "execution_count": null,
   "metadata": {},
   "outputs": [],
   "source": [
    "{\n",
    "  \"sessionAttributes\": {},\n",
    "  \"dialogAction\": {\n",
    "    \"type\": \"ElicitSlot\",\n",
    "    \"intentName\": \"RecommendPortfolio\",\n",
    "    \"slots\": {\n",
    "      \"firstName\": \"John\",\n",
    "      \"age\": null,\n",
    "      \"riskLevel\": \"Low\",\n",
    "      \"investmentAmount\": \"4000\"\n",
    "    },\n",
    "    \"slotToElicit\": \"age\",\n",
    "    \"message\": {\n",
    "      \"contentType\": \"PlainText\",\n",
    "      \"content\": \"Are you born yet? Please try again.\"\n",
    "    }\n",
    "  }\n",
    "}"
   ]
  }
 ],
 "metadata": {
  "kernelspec": {
   "display_name": "Python 3",
   "language": "python",
   "name": "python3"
  },
  "language_info": {
   "codemirror_mode": {
    "name": "ipython",
    "version": 3
   },
   "file_extension": ".py",
   "mimetype": "text/x-python",
   "name": "python",
   "nbconvert_exporter": "python",
   "pygments_lexer": "ipython3",
   "version": "3.7.3"
  }
 },
 "nbformat": 4,
 "nbformat_minor": 4
}
